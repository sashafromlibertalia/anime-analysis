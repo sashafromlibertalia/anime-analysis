{
 "cells": [
  {
   "cell_type": "code",
   "execution_count": 1,
   "id": "99f43065",
   "metadata": {
    "_cell_guid": "b1076dfc-b9ad-4769-8c92-a6c4dae69d19",
    "_uuid": "8f2839f25d086af736a60e9eeb907d3b93b6e0e5",
    "execution": {
     "iopub.execute_input": "2022-11-08T21:45:11.281793Z",
     "iopub.status.busy": "2022-11-08T21:45:11.280947Z",
     "iopub.status.idle": "2022-11-08T21:45:12.875773Z",
     "shell.execute_reply": "2022-11-08T21:45:12.874361Z"
    },
    "papermill": {
     "duration": 1.612022,
     "end_time": "2022-11-08T21:45:12.879156",
     "exception": false,
     "start_time": "2022-11-08T21:45:11.267134",
     "status": "completed"
    },
    "tags": []
   },
   "outputs": [],
   "source": [
    "import random\n",
    "\n",
    "import numpy as np\n",
    "import pandas as pd\n",
    "\n",
    "from sklearn import linear_model\n",
    "from sklearn.preprocessing import LabelEncoder\n",
    "from sklearn.model_selection import train_test_split\n",
    "from sklearn.metrics import mean_absolute_error\n",
    "from sklearn.metrics import mean_squared_error\n",
    "from sklearn.metrics import accuracy_score\n",
    "from sklearn.tree import DecisionTreeClassifier\n",
    "from sklearn.ensemble import RandomForestClassifier\n",
    "\n",
    "from matplotlib import pyplot as plt\n",
    "%matplotlib inline\n",
    "\n",
    "import warnings\n",
    "warnings.filterwarnings('ignore')"
   ]
  },
  {
   "cell_type": "code",
   "execution_count": 2,
   "id": "36fa64b1",
   "metadata": {
    "execution": {
     "iopub.execute_input": "2022-11-08T21:45:12.901608Z",
     "iopub.status.busy": "2022-11-08T21:45:12.901130Z",
     "iopub.status.idle": "2022-11-08T21:45:16.059371Z",
     "shell.execute_reply": "2022-11-08T21:45:16.057938Z"
    },
    "papermill": {
     "duration": 3.172698,
     "end_time": "2022-11-08T21:45:16.062350",
     "exception": false,
     "start_time": "2022-11-08T21:45:12.889652",
     "status": "completed"
    },
    "tags": []
   },
   "outputs": [],
   "source": [
    "anime = pd.read_csv('../input/anime-recommendations-database/anime.csv')\n",
    "ratings = pd.read_csv('../input/anime-recommendations-database/rating.csv')\n",
    "\n",
    "anime = anime.dropna()\n",
    "anime = anime[anime[\"episodes\"].str.contains(\"Unknown\") == False]"
   ]
  },
  {
   "cell_type": "code",
   "execution_count": 3,
   "id": "9f659e07",
   "metadata": {
    "execution": {
     "iopub.execute_input": "2022-11-08T21:45:16.088839Z",
     "iopub.status.busy": "2022-11-08T21:45:16.087893Z",
     "iopub.status.idle": "2022-11-08T21:45:21.732219Z",
     "shell.execute_reply": "2022-11-08T21:45:21.730993Z"
    },
    "papermill": {
     "duration": 5.662838,
     "end_time": "2022-11-08T21:45:21.735972",
     "exception": false,
     "start_time": "2022-11-08T21:45:16.073134",
     "status": "completed"
    },
    "tags": []
   },
   "outputs": [
    {
     "data": {
      "text/html": [
       "<div>\n",
       "<style scoped>\n",
       "    .dataframe tbody tr th:only-of-type {\n",
       "        vertical-align: middle;\n",
       "    }\n",
       "\n",
       "    .dataframe tbody tr th {\n",
       "        vertical-align: top;\n",
       "    }\n",
       "\n",
       "    .dataframe thead th {\n",
       "        text-align: right;\n",
       "    }\n",
       "</style>\n",
       "<table border=\"1\" class=\"dataframe\">\n",
       "  <thead>\n",
       "    <tr style=\"text-align: right;\">\n",
       "      <th></th>\n",
       "      <th>user_id</th>\n",
       "      <th>anime_id</th>\n",
       "      <th>rating</th>\n",
       "      <th>name</th>\n",
       "      <th>genre</th>\n",
       "      <th>type</th>\n",
       "      <th>episodes</th>\n",
       "      <th>members</th>\n",
       "    </tr>\n",
       "  </thead>\n",
       "  <tbody>\n",
       "    <tr>\n",
       "      <th>1</th>\n",
       "      <td>3</td>\n",
       "      <td>20</td>\n",
       "      <td>8</td>\n",
       "      <td>Naruto</td>\n",
       "      <td>Action, Comedy, Martial Arts, Shounen, Super P...</td>\n",
       "      <td>TV</td>\n",
       "      <td>220</td>\n",
       "      <td>683297</td>\n",
       "    </tr>\n",
       "    <tr>\n",
       "      <th>2</th>\n",
       "      <td>5</td>\n",
       "      <td>20</td>\n",
       "      <td>6</td>\n",
       "      <td>Naruto</td>\n",
       "      <td>Action, Comedy, Martial Arts, Shounen, Super P...</td>\n",
       "      <td>TV</td>\n",
       "      <td>220</td>\n",
       "      <td>683297</td>\n",
       "    </tr>\n",
       "    <tr>\n",
       "      <th>5</th>\n",
       "      <td>21</td>\n",
       "      <td>20</td>\n",
       "      <td>8</td>\n",
       "      <td>Naruto</td>\n",
       "      <td>Action, Comedy, Martial Arts, Shounen, Super P...</td>\n",
       "      <td>TV</td>\n",
       "      <td>220</td>\n",
       "      <td>683297</td>\n",
       "    </tr>\n",
       "    <tr>\n",
       "      <th>6</th>\n",
       "      <td>28</td>\n",
       "      <td>20</td>\n",
       "      <td>9</td>\n",
       "      <td>Naruto</td>\n",
       "      <td>Action, Comedy, Martial Arts, Shounen, Super P...</td>\n",
       "      <td>TV</td>\n",
       "      <td>220</td>\n",
       "      <td>683297</td>\n",
       "    </tr>\n",
       "    <tr>\n",
       "      <th>7</th>\n",
       "      <td>34</td>\n",
       "      <td>20</td>\n",
       "      <td>9</td>\n",
       "      <td>Naruto</td>\n",
       "      <td>Action, Comedy, Martial Arts, Shounen, Super P...</td>\n",
       "      <td>TV</td>\n",
       "      <td>220</td>\n",
       "      <td>683297</td>\n",
       "    </tr>\n",
       "    <tr>\n",
       "      <th>...</th>\n",
       "      <td>...</td>\n",
       "      <td>...</td>\n",
       "      <td>...</td>\n",
       "      <td>...</td>\n",
       "      <td>...</td>\n",
       "      <td>...</td>\n",
       "      <td>...</td>\n",
       "      <td>...</td>\n",
       "    </tr>\n",
       "    <tr>\n",
       "      <th>7813600</th>\n",
       "      <td>65175</td>\n",
       "      <td>30095</td>\n",
       "      <td>7</td>\n",
       "      <td>Qi Cai Lao Fu Zi</td>\n",
       "      <td>Action, Comedy, Seinen</td>\n",
       "      <td>Movie</td>\n",
       "      <td>1</td>\n",
       "      <td>82</td>\n",
       "    </tr>\n",
       "    <tr>\n",
       "      <th>7813601</th>\n",
       "      <td>65175</td>\n",
       "      <td>30096</td>\n",
       "      <td>7</td>\n",
       "      <td>Lao Fu Zi Shui Hu Chuan</td>\n",
       "      <td>Comedy, Historical, Seinen</td>\n",
       "      <td>Movie</td>\n",
       "      <td>1</td>\n",
       "      <td>65</td>\n",
       "    </tr>\n",
       "    <tr>\n",
       "      <th>7813602</th>\n",
       "      <td>65682</td>\n",
       "      <td>30450</td>\n",
       "      <td>8</td>\n",
       "      <td>Dr. Slump: Hoyoyo! Arale no Himitsu Dai Koukai...</td>\n",
       "      <td>Comedy, Sci-Fi, Shounen</td>\n",
       "      <td>Special</td>\n",
       "      <td>1</td>\n",
       "      <td>248</td>\n",
       "    </tr>\n",
       "    <tr>\n",
       "      <th>7813603</th>\n",
       "      <td>69497</td>\n",
       "      <td>33484</td>\n",
       "      <td>10</td>\n",
       "      <td>Shiroi Zou</td>\n",
       "      <td>Action, Historical, Kids</td>\n",
       "      <td>Movie</td>\n",
       "      <td>1</td>\n",
       "      <td>45</td>\n",
       "    </tr>\n",
       "    <tr>\n",
       "      <th>7813606</th>\n",
       "      <td>72800</td>\n",
       "      <td>30738</td>\n",
       "      <td>4</td>\n",
       "      <td>Gamba: Gamba to Nakama-tachi</td>\n",
       "      <td>Adventure, Kids</td>\n",
       "      <td>Movie</td>\n",
       "      <td>1</td>\n",
       "      <td>185</td>\n",
       "    </tr>\n",
       "  </tbody>\n",
       "</table>\n",
       "<p>6337144 rows × 8 columns</p>\n",
       "</div>"
      ],
      "text/plain": [
       "         user_id  anime_id  rating  \\\n",
       "1              3        20       8   \n",
       "2              5        20       6   \n",
       "5             21        20       8   \n",
       "6             28        20       9   \n",
       "7             34        20       9   \n",
       "...          ...       ...     ...   \n",
       "7813600    65175     30095       7   \n",
       "7813601    65175     30096       7   \n",
       "7813602    65682     30450       8   \n",
       "7813603    69497     33484      10   \n",
       "7813606    72800     30738       4   \n",
       "\n",
       "                                                      name  \\\n",
       "1                                                   Naruto   \n",
       "2                                                   Naruto   \n",
       "5                                                   Naruto   \n",
       "6                                                   Naruto   \n",
       "7                                                   Naruto   \n",
       "...                                                    ...   \n",
       "7813600                                   Qi Cai Lao Fu Zi   \n",
       "7813601                            Lao Fu Zi Shui Hu Chuan   \n",
       "7813602  Dr. Slump: Hoyoyo! Arale no Himitsu Dai Koukai...   \n",
       "7813603                                         Shiroi Zou   \n",
       "7813606                       Gamba: Gamba to Nakama-tachi   \n",
       "\n",
       "                                                     genre     type episodes  \\\n",
       "1        Action, Comedy, Martial Arts, Shounen, Super P...       TV      220   \n",
       "2        Action, Comedy, Martial Arts, Shounen, Super P...       TV      220   \n",
       "5        Action, Comedy, Martial Arts, Shounen, Super P...       TV      220   \n",
       "6        Action, Comedy, Martial Arts, Shounen, Super P...       TV      220   \n",
       "7        Action, Comedy, Martial Arts, Shounen, Super P...       TV      220   \n",
       "...                                                    ...      ...      ...   \n",
       "7813600                             Action, Comedy, Seinen    Movie        1   \n",
       "7813601                         Comedy, Historical, Seinen    Movie        1   \n",
       "7813602                            Comedy, Sci-Fi, Shounen  Special        1   \n",
       "7813603                           Action, Historical, Kids    Movie        1   \n",
       "7813606                                    Adventure, Kids    Movie        1   \n",
       "\n",
       "         members  \n",
       "1         683297  \n",
       "2         683297  \n",
       "5         683297  \n",
       "6         683297  \n",
       "7         683297  \n",
       "...          ...  \n",
       "7813600       82  \n",
       "7813601       65  \n",
       "7813602      248  \n",
       "7813603       45  \n",
       "7813606      185  \n",
       "\n",
       "[6337144 rows x 8 columns]"
      ]
     },
     "execution_count": 3,
     "metadata": {},
     "output_type": "execute_result"
    }
   ],
   "source": [
    "data = pd.merge(ratings, anime, on='anime_id')\n",
    "data = data.dropna()\n",
    "data = data.drop('rating_y', axis=1)\n",
    "data.rename(columns = {'rating_x':'rating'}, inplace = True)\n",
    "data = data[data['rating'] != -1]\n",
    "data"
   ]
  },
  {
   "cell_type": "markdown",
   "id": "55dfd2c9",
   "metadata": {
    "papermill": {
     "duration": 0.00961,
     "end_time": "2022-11-08T21:45:21.755532",
     "exception": false,
     "start_time": "2022-11-08T21:45:21.745922",
     "status": "completed"
    },
    "tags": []
   },
   "source": [
    "## Анализ жанров\n",
    "\n",
    "Чтобы определить, что смотрят нынче анимешники, сначала вытащим все жанры аниме"
   ]
  },
  {
   "cell_type": "code",
   "execution_count": 4,
   "id": "9ce23666",
   "metadata": {
    "execution": {
     "iopub.execute_input": "2022-11-08T21:45:21.779209Z",
     "iopub.status.busy": "2022-11-08T21:45:21.778343Z",
     "iopub.status.idle": "2022-11-08T21:45:22.334144Z",
     "shell.execute_reply": "2022-11-08T21:45:22.332411Z"
    },
    "papermill": {
     "duration": 0.570659,
     "end_time": "2022-11-08T21:45:22.337149",
     "exception": false,
     "start_time": "2022-11-08T21:45:21.766490",
     "status": "completed"
    },
    "tags": []
   },
   "outputs": [
    {
     "data": {
      "text/plain": [
       "0      Martial Arts\n",
       "1              Game\n",
       "2           Shounen\n",
       "3          Military\n",
       "4            Sports\n",
       "5            Comedy\n",
       "6        Historical\n",
       "7             Drama\n",
       "8            Shoujo\n",
       "9              Cars\n",
       "10    Slice of Life\n",
       "11            Magic\n",
       "12            Mecha\n",
       "13    Psychological\n",
       "14        Adventure\n",
       "15       Shounen Ai\n",
       "16           Parody\n",
       "17           Sci-Fi\n",
       "18            Harem\n",
       "19            Josei\n",
       "20           Action\n",
       "21            Ecchi\n",
       "22      Super Power\n",
       "23             Yuri\n",
       "24     Supernatural\n",
       "25           Seinen\n",
       "26           School\n",
       "27          Mystery\n",
       "28             Kids\n",
       "29           Demons\n",
       "30          Samurai\n",
       "31         Thriller\n",
       "32            Space\n",
       "33             Yaoi\n",
       "34           Police\n",
       "35          Romance\n",
       "36        Shoujo Ai\n",
       "37         Dementia\n",
       "38           Hentai\n",
       "39            Music\n",
       "40           Horror\n",
       "41          Fantasy\n",
       "42          Vampire\n",
       "dtype: object"
      ]
     },
     "execution_count": 4,
     "metadata": {},
     "output_type": "execute_result"
    }
   ],
   "source": [
    "dirty_genre_list = list(set(data.genre))\n",
    "genre_list = list(set([g for x in dirty_genre_list for g in x.split(', ')]))\n",
    "pd.Series(genre_list)"
   ]
  },
  {
   "cell_type": "markdown",
   "id": "3d9790cf",
   "metadata": {
    "papermill": {
     "duration": 0.010096,
     "end_time": "2022-11-08T21:45:22.357654",
     "exception": false,
     "start_time": "2022-11-08T21:45:22.347558",
     "status": "completed"
    },
    "tags": []
   },
   "source": [
    "Теперь проанализируем, сколько фильмов в каждом жанре"
   ]
  },
  {
   "cell_type": "code",
   "execution_count": 5,
   "id": "9305b252",
   "metadata": {
    "execution": {
     "iopub.execute_input": "2022-11-08T21:45:22.381346Z",
     "iopub.status.busy": "2022-11-08T21:45:22.380904Z",
     "iopub.status.idle": "2022-11-08T21:45:36.904453Z",
     "shell.execute_reply": "2022-11-08T21:45:36.902966Z"
    },
    "papermill": {
     "duration": 14.538682,
     "end_time": "2022-11-08T21:45:36.907343",
     "exception": false,
     "start_time": "2022-11-08T21:45:22.368661",
     "status": "completed"
    },
    "tags": []
   },
   "outputs": [],
   "source": [
    "stats_df = pd.DataFrame(columns=['Жанр', 'Число фильмов'])\n",
    "stats_df['Жанр'] = genre_list\n",
    "stats_df['Число фильмов'] = 0\n",
    "\n",
    "for g in list(set(data.genre)):\n",
    "    for genre in g.split(', '):\n",
    "        stats_df.loc[stats_df['Жанр'] == genre, 'Число фильмов'] += 1\n",
    "    \n",
    "stats_df = stats_df.sort_values(by='Число фильмов', ascending=False)"
   ]
  },
  {
   "cell_type": "code",
   "execution_count": 6,
   "id": "b529dcb1",
   "metadata": {
    "execution": {
     "iopub.execute_input": "2022-11-08T21:45:36.929650Z",
     "iopub.status.busy": "2022-11-08T21:45:36.929183Z",
     "iopub.status.idle": "2022-11-08T21:45:36.943832Z",
     "shell.execute_reply": "2022-11-08T21:45:36.942362Z"
    },
    "papermill": {
     "duration": 0.028773,
     "end_time": "2022-11-08T21:45:36.946415",
     "exception": false,
     "start_time": "2022-11-08T21:45:36.917642",
     "status": "completed"
    },
    "tags": []
   },
   "outputs": [
    {
     "data": {
      "text/html": [
       "<div>\n",
       "<style scoped>\n",
       "    .dataframe tbody tr th:only-of-type {\n",
       "        vertical-align: middle;\n",
       "    }\n",
       "\n",
       "    .dataframe tbody tr th {\n",
       "        vertical-align: top;\n",
       "    }\n",
       "\n",
       "    .dataframe thead th {\n",
       "        text-align: right;\n",
       "    }\n",
       "</style>\n",
       "<table border=\"1\" class=\"dataframe\">\n",
       "  <thead>\n",
       "    <tr style=\"text-align: right;\">\n",
       "      <th></th>\n",
       "      <th>Жанр</th>\n",
       "      <th>Число фильмов</th>\n",
       "    </tr>\n",
       "  </thead>\n",
       "  <tbody>\n",
       "    <tr>\n",
       "      <th>5</th>\n",
       "      <td>Comedy</td>\n",
       "      <td>1221</td>\n",
       "    </tr>\n",
       "    <tr>\n",
       "      <th>20</th>\n",
       "      <td>Action</td>\n",
       "      <td>1134</td>\n",
       "    </tr>\n",
       "    <tr>\n",
       "      <th>17</th>\n",
       "      <td>Sci-Fi</td>\n",
       "      <td>803</td>\n",
       "    </tr>\n",
       "    <tr>\n",
       "      <th>7</th>\n",
       "      <td>Drama</td>\n",
       "      <td>795</td>\n",
       "    </tr>\n",
       "    <tr>\n",
       "      <th>14</th>\n",
       "      <td>Adventure</td>\n",
       "      <td>779</td>\n",
       "    </tr>\n",
       "    <tr>\n",
       "      <th>41</th>\n",
       "      <td>Fantasy</td>\n",
       "      <td>761</td>\n",
       "    </tr>\n",
       "    <tr>\n",
       "      <th>35</th>\n",
       "      <td>Romance</td>\n",
       "      <td>744</td>\n",
       "    </tr>\n",
       "    <tr>\n",
       "      <th>2</th>\n",
       "      <td>Shounen</td>\n",
       "      <td>636</td>\n",
       "    </tr>\n",
       "    <tr>\n",
       "      <th>24</th>\n",
       "      <td>Supernatural</td>\n",
       "      <td>567</td>\n",
       "    </tr>\n",
       "    <tr>\n",
       "      <th>26</th>\n",
       "      <td>School</td>\n",
       "      <td>453</td>\n",
       "    </tr>\n",
       "    <tr>\n",
       "      <th>11</th>\n",
       "      <td>Magic</td>\n",
       "      <td>356</td>\n",
       "    </tr>\n",
       "    <tr>\n",
       "      <th>12</th>\n",
       "      <td>Mecha</td>\n",
       "      <td>353</td>\n",
       "    </tr>\n",
       "    <tr>\n",
       "      <th>21</th>\n",
       "      <td>Ecchi</td>\n",
       "      <td>325</td>\n",
       "    </tr>\n",
       "    <tr>\n",
       "      <th>6</th>\n",
       "      <td>Historical</td>\n",
       "      <td>300</td>\n",
       "    </tr>\n",
       "    <tr>\n",
       "      <th>27</th>\n",
       "      <td>Mystery</td>\n",
       "      <td>282</td>\n",
       "    </tr>\n",
       "    <tr>\n",
       "      <th>10</th>\n",
       "      <td>Slice of Life</td>\n",
       "      <td>272</td>\n",
       "    </tr>\n",
       "    <tr>\n",
       "      <th>8</th>\n",
       "      <td>Shoujo</td>\n",
       "      <td>272</td>\n",
       "    </tr>\n",
       "    <tr>\n",
       "      <th>25</th>\n",
       "      <td>Seinen</td>\n",
       "      <td>242</td>\n",
       "    </tr>\n",
       "    <tr>\n",
       "      <th>22</th>\n",
       "      <td>Super Power</td>\n",
       "      <td>230</td>\n",
       "    </tr>\n",
       "    <tr>\n",
       "      <th>40</th>\n",
       "      <td>Horror</td>\n",
       "      <td>219</td>\n",
       "    </tr>\n",
       "    <tr>\n",
       "      <th>3</th>\n",
       "      <td>Military</td>\n",
       "      <td>211</td>\n",
       "    </tr>\n",
       "    <tr>\n",
       "      <th>28</th>\n",
       "      <td>Kids</td>\n",
       "      <td>199</td>\n",
       "    </tr>\n",
       "    <tr>\n",
       "      <th>18</th>\n",
       "      <td>Harem</td>\n",
       "      <td>175</td>\n",
       "    </tr>\n",
       "    <tr>\n",
       "      <th>29</th>\n",
       "      <td>Demons</td>\n",
       "      <td>173</td>\n",
       "    </tr>\n",
       "    <tr>\n",
       "      <th>39</th>\n",
       "      <td>Music</td>\n",
       "      <td>168</td>\n",
       "    </tr>\n",
       "    <tr>\n",
       "      <th>32</th>\n",
       "      <td>Space</td>\n",
       "      <td>158</td>\n",
       "    </tr>\n",
       "    <tr>\n",
       "      <th>13</th>\n",
       "      <td>Psychological</td>\n",
       "      <td>157</td>\n",
       "    </tr>\n",
       "    <tr>\n",
       "      <th>0</th>\n",
       "      <td>Martial Arts</td>\n",
       "      <td>155</td>\n",
       "    </tr>\n",
       "    <tr>\n",
       "      <th>16</th>\n",
       "      <td>Parody</td>\n",
       "      <td>147</td>\n",
       "    </tr>\n",
       "    <tr>\n",
       "      <th>4</th>\n",
       "      <td>Sports</td>\n",
       "      <td>144</td>\n",
       "    </tr>\n",
       "    <tr>\n",
       "      <th>38</th>\n",
       "      <td>Hentai</td>\n",
       "      <td>135</td>\n",
       "    </tr>\n",
       "    <tr>\n",
       "      <th>34</th>\n",
       "      <td>Police</td>\n",
       "      <td>95</td>\n",
       "    </tr>\n",
       "    <tr>\n",
       "      <th>30</th>\n",
       "      <td>Samurai</td>\n",
       "      <td>87</td>\n",
       "    </tr>\n",
       "    <tr>\n",
       "      <th>1</th>\n",
       "      <td>Game</td>\n",
       "      <td>84</td>\n",
       "    </tr>\n",
       "    <tr>\n",
       "      <th>42</th>\n",
       "      <td>Vampire</td>\n",
       "      <td>72</td>\n",
       "    </tr>\n",
       "    <tr>\n",
       "      <th>31</th>\n",
       "      <td>Thriller</td>\n",
       "      <td>64</td>\n",
       "    </tr>\n",
       "    <tr>\n",
       "      <th>37</th>\n",
       "      <td>Dementia</td>\n",
       "      <td>52</td>\n",
       "    </tr>\n",
       "    <tr>\n",
       "      <th>15</th>\n",
       "      <td>Shounen Ai</td>\n",
       "      <td>43</td>\n",
       "    </tr>\n",
       "    <tr>\n",
       "      <th>36</th>\n",
       "      <td>Shoujo Ai</td>\n",
       "      <td>41</td>\n",
       "    </tr>\n",
       "    <tr>\n",
       "      <th>19</th>\n",
       "      <td>Josei</td>\n",
       "      <td>32</td>\n",
       "    </tr>\n",
       "    <tr>\n",
       "      <th>9</th>\n",
       "      <td>Cars</td>\n",
       "      <td>26</td>\n",
       "    </tr>\n",
       "    <tr>\n",
       "      <th>33</th>\n",
       "      <td>Yaoi</td>\n",
       "      <td>20</td>\n",
       "    </tr>\n",
       "    <tr>\n",
       "      <th>23</th>\n",
       "      <td>Yuri</td>\n",
       "      <td>17</td>\n",
       "    </tr>\n",
       "  </tbody>\n",
       "</table>\n",
       "</div>"
      ],
      "text/plain": [
       "             Жанр  Число фильмов\n",
       "5          Comedy           1221\n",
       "20         Action           1134\n",
       "17         Sci-Fi            803\n",
       "7           Drama            795\n",
       "14      Adventure            779\n",
       "41        Fantasy            761\n",
       "35        Romance            744\n",
       "2         Shounen            636\n",
       "24   Supernatural            567\n",
       "26         School            453\n",
       "11          Magic            356\n",
       "12          Mecha            353\n",
       "21          Ecchi            325\n",
       "6      Historical            300\n",
       "27        Mystery            282\n",
       "10  Slice of Life            272\n",
       "8          Shoujo            272\n",
       "25         Seinen            242\n",
       "22    Super Power            230\n",
       "40         Horror            219\n",
       "3        Military            211\n",
       "28           Kids            199\n",
       "18          Harem            175\n",
       "29         Demons            173\n",
       "39          Music            168\n",
       "32          Space            158\n",
       "13  Psychological            157\n",
       "0    Martial Arts            155\n",
       "16         Parody            147\n",
       "4          Sports            144\n",
       "38         Hentai            135\n",
       "34         Police             95\n",
       "30        Samurai             87\n",
       "1            Game             84\n",
       "42        Vampire             72\n",
       "31       Thriller             64\n",
       "37       Dementia             52\n",
       "15     Shounen Ai             43\n",
       "36      Shoujo Ai             41\n",
       "19          Josei             32\n",
       "9            Cars             26\n",
       "33           Yaoi             20\n",
       "23           Yuri             17"
      ]
     },
     "execution_count": 6,
     "metadata": {},
     "output_type": "execute_result"
    }
   ],
   "source": [
    "stats_df"
   ]
  },
  {
   "cell_type": "code",
   "execution_count": 7,
   "id": "720b6d88",
   "metadata": {
    "execution": {
     "iopub.execute_input": "2022-11-08T21:45:36.970691Z",
     "iopub.status.busy": "2022-11-08T21:45:36.970171Z",
     "iopub.status.idle": "2022-11-08T21:45:37.328182Z",
     "shell.execute_reply": "2022-11-08T21:45:37.327153Z"
    },
    "papermill": {
     "duration": 0.372768,
     "end_time": "2022-11-08T21:45:37.330811",
     "exception": false,
     "start_time": "2022-11-08T21:45:36.958043",
     "status": "completed"
    },
    "tags": []
   },
   "outputs": [
    {
     "data": {
      "text/plain": [
       "<AxesSubplot:xlabel='Жанр'>"
      ]
     },
     "execution_count": 7,
     "metadata": {},
     "output_type": "execute_result"
    },
    {
     "data": {
      "image/png": "[encoded data removed]",
      "text/plain": [
       "<Figure size 1080x720 with 1 Axes>"
      ]
     },
     "metadata": {
      "needs_background": "light"
     },
     "output_type": "display_data"
    }
   ],
   "source": [
    "stats_df.set_index('Жанр').head(10).plot(kind='bar', figsize=(15, 10), rot=0)"
   ]
  },
  {
   "cell_type": "markdown",
   "id": "8c443cfc",
   "metadata": {
    "papermill": {
     "duration": 0.011283,
     "end_time": "2022-11-08T21:45:37.353559",
     "exception": false,
     "start_time": "2022-11-08T21:45:37.342276",
     "status": "completed"
    },
    "tags": []
   },
   "source": [
    "## Выведение средней оценки аниме\n",
    "\n",
    "Датасет предоставляет данные о отзывах людей о разных аниме, можно воспользоваться этим и найти среднее значение для каждого тайтла"
   ]
  },
  {
   "cell_type": "code",
   "execution_count": 8,
   "id": "8b4db126",
   "metadata": {
    "execution": {
     "iopub.execute_input": "2022-11-08T21:45:37.377371Z",
     "iopub.status.busy": "2022-11-08T21:45:37.376926Z",
     "iopub.status.idle": "2022-11-08T21:45:38.726226Z",
     "shell.execute_reply": "2022-11-08T21:45:38.724837Z"
    },
    "papermill": {
     "duration": 1.364741,
     "end_time": "2022-11-08T21:45:38.729321",
     "exception": false,
     "start_time": "2022-11-08T21:45:37.364580",
     "status": "completed"
    },
    "tags": []
   },
   "outputs": [
    {
     "data": {
      "text/html": [
       "<div>\n",
       "<style scoped>\n",
       "    .dataframe tbody tr th:only-of-type {\n",
       "        vertical-align: middle;\n",
       "    }\n",
       "\n",
       "    .dataframe tbody tr th {\n",
       "        vertical-align: top;\n",
       "    }\n",
       "\n",
       "    .dataframe thead th {\n",
       "        text-align: right;\n",
       "    }\n",
       "</style>\n",
       "<table border=\"1\" class=\"dataframe\">\n",
       "  <thead>\n",
       "    <tr style=\"text-align: right;\">\n",
       "      <th></th>\n",
       "      <th>Фильм</th>\n",
       "      <th>Средняя оценка</th>\n",
       "    </tr>\n",
       "  </thead>\n",
       "  <tbody>\n",
       "    <tr>\n",
       "      <th>7630</th>\n",
       "      <td>Oppai Life</td>\n",
       "      <td>10.0</td>\n",
       "    </tr>\n",
       "    <tr>\n",
       "      <th>9397</th>\n",
       "      <td>Koumon-teki Juuku Ketsujiru Juke</td>\n",
       "      <td>10.0</td>\n",
       "    </tr>\n",
       "    <tr>\n",
       "      <th>6840</th>\n",
       "      <td>Hate You</td>\n",
       "      <td>10.0</td>\n",
       "    </tr>\n",
       "    <tr>\n",
       "      <th>5489</th>\n",
       "      <td>Majuu Sensen</td>\n",
       "      <td>10.0</td>\n",
       "    </tr>\n",
       "    <tr>\n",
       "      <th>4329</th>\n",
       "      <td>Alps Monogatari: Watashi no Annette Specials</td>\n",
       "      <td>10.0</td>\n",
       "    </tr>\n",
       "    <tr>\n",
       "      <th>...</th>\n",
       "      <td>...</td>\n",
       "      <td>...</td>\n",
       "    </tr>\n",
       "    <tr>\n",
       "      <th>4662</th>\n",
       "      <td>Kyoufu Shinbun</td>\n",
       "      <td>1.0</td>\n",
       "    </tr>\n",
       "    <tr>\n",
       "      <th>9704</th>\n",
       "      <td>Ningen Shikkaku: Director&amp;#039;s Cut-ban</td>\n",
       "      <td>1.0</td>\n",
       "    </tr>\n",
       "    <tr>\n",
       "      <th>6163</th>\n",
       "      <td>Drifters: Special Edition</td>\n",
       "      <td>1.0</td>\n",
       "    </tr>\n",
       "    <tr>\n",
       "      <th>149</th>\n",
       "      <td>Believe</td>\n",
       "      <td>1.0</td>\n",
       "    </tr>\n",
       "    <tr>\n",
       "      <th>748</th>\n",
       "      <td>Discipline</td>\n",
       "      <td>1.0</td>\n",
       "    </tr>\n",
       "  </tbody>\n",
       "</table>\n",
       "<p>9890 rows × 2 columns</p>\n",
       "</div>"
      ],
      "text/plain": [
       "                                             Фильм  Средняя оценка\n",
       "7630                                    Oppai Life            10.0\n",
       "9397              Koumon-teki Juuku Ketsujiru Juke            10.0\n",
       "6840                                      Hate You            10.0\n",
       "5489                                  Majuu Sensen            10.0\n",
       "4329  Alps Monogatari: Watashi no Annette Specials            10.0\n",
       "...                                            ...             ...\n",
       "4662                                Kyoufu Shinbun             1.0\n",
       "9704      Ningen Shikkaku: Director&#039;s Cut-ban             1.0\n",
       "6163                     Drifters: Special Edition             1.0\n",
       "149                                        Believe             1.0\n",
       "748                                     Discipline             1.0\n",
       "\n",
       "[9890 rows x 2 columns]"
      ]
     },
     "execution_count": 8,
     "metadata": {},
     "output_type": "execute_result"
    }
   ],
   "source": [
    "mean_df = pd.DataFrame(columns=['Фильм', 'Средняя оценка'])\n",
    "mean_df['Фильм'] = list(set(data['name']))\n",
    "mean_df['Средняя оценка'] = list(data.groupby('name')['rating'].mean().round(2))\n",
    "mean_df = mean_df.sort_values(by='Средняя оценка', ascending=False)\n",
    "mean_df"
   ]
  },
  {
   "cell_type": "markdown",
   "id": "e3c12e7f",
   "metadata": {
    "papermill": {
     "duration": 0.010824,
     "end_time": "2022-11-08T21:45:38.751874",
     "exception": false,
     "start_time": "2022-11-08T21:45:38.741050",
     "status": "completed"
    },
    "tags": []
   },
   "source": [
    "## Предсказание оценки на аниме\n",
    "\n",
    "В датасете есть небольшое число признаков (`genre`, `type`, `episodes`, `members`), на основе которых можно попробовать предсказать отзыв человека. Введем целевую переменную"
   ]
  },
  {
   "cell_type": "code",
   "execution_count": 9,
   "id": "b20b0a47",
   "metadata": {
    "execution": {
     "iopub.execute_input": "2022-11-08T21:45:38.777380Z",
     "iopub.status.busy": "2022-11-08T21:45:38.776844Z",
     "iopub.status.idle": "2022-11-08T21:45:38.782176Z",
     "shell.execute_reply": "2022-11-08T21:45:38.780979Z"
    },
    "papermill": {
     "duration": 0.021162,
     "end_time": "2022-11-08T21:45:38.784633",
     "exception": false,
     "start_time": "2022-11-08T21:45:38.763471",
     "status": "completed"
    },
    "tags": []
   },
   "outputs": [],
   "source": [
    "target_variable_name = 'rating'"
   ]
  },
  {
   "cell_type": "markdown",
   "id": "e35f70da",
   "metadata": {
    "papermill": {
     "duration": 0.010788,
     "end_time": "2022-11-08T21:45:38.806796",
     "exception": false,
     "start_time": "2022-11-08T21:45:38.796008",
     "status": "completed"
    },
    "tags": []
   },
   "source": [
    "Данные в датасете неотформатированны, в связи с чем модель будет выдавать ошибку. Исправим это"
   ]
  },
  {
   "cell_type": "code",
   "execution_count": 10,
   "id": "e27a3b37",
   "metadata": {
    "execution": {
     "iopub.execute_input": "2022-11-08T21:45:38.830811Z",
     "iopub.status.busy": "2022-11-08T21:45:38.830348Z",
     "iopub.status.idle": "2022-11-08T21:45:38.848795Z",
     "shell.execute_reply": "2022-11-08T21:45:38.847572Z"
    },
    "papermill": {
     "duration": 0.034027,
     "end_time": "2022-11-08T21:45:38.851967",
     "exception": false,
     "start_time": "2022-11-08T21:45:38.817940",
     "status": "completed"
    },
    "tags": []
   },
   "outputs": [],
   "source": [
    "anime_df = anime.copy()\n",
    "anime_df['genre'] = anime_df['genre'].agg(lambda x: x.split(', '))"
   ]
  },
  {
   "cell_type": "code",
   "execution_count": 11,
   "id": "db53934b",
   "metadata": {
    "execution": {
     "iopub.execute_input": "2022-11-08T21:45:38.877460Z",
     "iopub.status.busy": "2022-11-08T21:45:38.877011Z",
     "iopub.status.idle": "2022-11-08T21:45:38.888070Z",
     "shell.execute_reply": "2022-11-08T21:45:38.886885Z"
    },
    "papermill": {
     "duration": 0.026755,
     "end_time": "2022-11-08T21:45:38.890335",
     "exception": false,
     "start_time": "2022-11-08T21:45:38.863580",
     "status": "completed"
    },
    "tags": []
   },
   "outputs": [],
   "source": [
    "type_data = list(set(anime_df['type'].values))\n",
    "labelencoder = LabelEncoder()\n",
    "anime_df['type'] = labelencoder.fit_transform(anime_df['type'])"
   ]
  },
  {
   "cell_type": "code",
   "execution_count": 12,
   "id": "908e1e51",
   "metadata": {
    "execution": {
     "iopub.execute_input": "2022-11-08T21:45:38.915468Z",
     "iopub.status.busy": "2022-11-08T21:45:38.914989Z",
     "iopub.status.idle": "2022-11-08T21:46:28.569757Z",
     "shell.execute_reply": "2022-11-08T21:46:28.568114Z"
    },
    "papermill": {
     "duration": 49.671437,
     "end_time": "2022-11-08T21:46:28.573193",
     "exception": false,
     "start_time": "2022-11-08T21:45:38.901756",
     "status": "completed"
    },
    "tags": []
   },
   "outputs": [],
   "source": [
    "genre_columns = list(map(lambda x: 'genre_' + x, genre_list)) ## Создадим отдельный столбец для каждого жанра\n",
    "\n",
    "for genre in genre_columns:\n",
    "    anime_df[genre] = 0\n",
    "\n",
    "for i, v in enumerate(anime_df['genre'].values):\n",
    "    for genre in genre_list:\n",
    "        if genre in v:\n",
    "            anime_df.loc[anime_df['genre_' + genre], i] = 1 ## Укажем принадлежность к жанру в нужной ячейке\n",
    "\n",
    "anime_df = anime_df.drop('genre', axis=1) ## Избавимся от лишнего столбца"
   ]
  },
  {
   "cell_type": "markdown",
   "id": "a8a8ddc8",
   "metadata": {
    "papermill": {
     "duration": 0.011198,
     "end_time": "2022-11-08T21:46:28.595961",
     "exception": false,
     "start_time": "2022-11-08T21:46:28.584763",
     "status": "completed"
    },
    "tags": []
   },
   "source": [
    "Отделим тренировочные данные и значения"
   ]
  },
  {
   "cell_type": "code",
   "execution_count": 13,
   "id": "40ea3c54",
   "metadata": {
    "execution": {
     "iopub.execute_input": "2022-11-08T21:46:28.619940Z",
     "iopub.status.busy": "2022-11-08T21:46:28.619529Z",
     "iopub.status.idle": "2022-11-08T21:46:28.990627Z",
     "shell.execute_reply": "2022-11-08T21:46:28.989274Z"
    },
    "papermill": {
     "duration": 0.386521,
     "end_time": "2022-11-08T21:46:28.993519",
     "exception": false,
     "start_time": "2022-11-08T21:46:28.606998",
     "status": "completed"
    },
    "tags": []
   },
   "outputs": [],
   "source": [
    "y = anime_df[target_variable_name]\n",
    "X = anime_df.drop(target_variable_name, axis=1)[['type', 'episodes', 'members'] + genre_columns]\n",
    "X_train, X_test, y_train, y_test = train_test_split(X, y, test_size=0.4, random_state=42)"
   ]
  },
  {
   "cell_type": "code",
   "execution_count": 14,
   "id": "507d9647",
   "metadata": {
    "execution": {
     "iopub.execute_input": "2022-11-08T21:46:29.019017Z",
     "iopub.status.busy": "2022-11-08T21:46:29.018245Z",
     "iopub.status.idle": "2022-11-08T21:46:29.043907Z",
     "shell.execute_reply": "2022-11-08T21:46:29.042674Z"
    },
    "papermill": {
     "duration": 0.041956,
     "end_time": "2022-11-08T21:46:29.047213",
     "exception": false,
     "start_time": "2022-11-08T21:46:29.005257",
     "status": "completed"
    },
    "tags": []
   },
   "outputs": [
    {
     "data": {
      "text/html": [
       "<div>\n",
       "<style scoped>\n",
       "    .dataframe tbody tr th:only-of-type {\n",
       "        vertical-align: middle;\n",
       "    }\n",
       "\n",
       "    .dataframe tbody tr th {\n",
       "        vertical-align: top;\n",
       "    }\n",
       "\n",
       "    .dataframe thead th {\n",
       "        text-align: right;\n",
       "    }\n",
       "</style>\n",
       "<table border=\"1\" class=\"dataframe\">\n",
       "  <thead>\n",
       "    <tr style=\"text-align: right;\">\n",
       "      <th></th>\n",
       "      <th>type</th>\n",
       "      <th>episodes</th>\n",
       "      <th>members</th>\n",
       "      <th>genre_Martial Arts</th>\n",
       "      <th>genre_Game</th>\n",
       "      <th>genre_Shounen</th>\n",
       "      <th>genre_Military</th>\n",
       "      <th>genre_Sports</th>\n",
       "      <th>genre_Comedy</th>\n",
       "      <th>genre_Historical</th>\n",
       "      <th>...</th>\n",
       "      <th>genre_Yaoi</th>\n",
       "      <th>genre_Police</th>\n",
       "      <th>genre_Romance</th>\n",
       "      <th>genre_Shoujo Ai</th>\n",
       "      <th>genre_Dementia</th>\n",
       "      <th>genre_Hentai</th>\n",
       "      <th>genre_Music</th>\n",
       "      <th>genre_Horror</th>\n",
       "      <th>genre_Fantasy</th>\n",
       "      <th>genre_Vampire</th>\n",
       "    </tr>\n",
       "  </thead>\n",
       "  <tbody>\n",
       "    <tr>\n",
       "      <th>11436</th>\n",
       "      <td>3</td>\n",
       "      <td>1</td>\n",
       "      <td>2563</td>\n",
       "      <td>0</td>\n",
       "      <td>0</td>\n",
       "      <td>0</td>\n",
       "      <td>0</td>\n",
       "      <td>0</td>\n",
       "      <td>0</td>\n",
       "      <td>0</td>\n",
       "      <td>...</td>\n",
       "      <td>0</td>\n",
       "      <td>0</td>\n",
       "      <td>0</td>\n",
       "      <td>0</td>\n",
       "      <td>0</td>\n",
       "      <td>0</td>\n",
       "      <td>0</td>\n",
       "      <td>0</td>\n",
       "      <td>0</td>\n",
       "      <td>0</td>\n",
       "    </tr>\n",
       "    <tr>\n",
       "      <th>3460</th>\n",
       "      <td>3</td>\n",
       "      <td>2</td>\n",
       "      <td>3993</td>\n",
       "      <td>0</td>\n",
       "      <td>0</td>\n",
       "      <td>0</td>\n",
       "      <td>0</td>\n",
       "      <td>0</td>\n",
       "      <td>0</td>\n",
       "      <td>0</td>\n",
       "      <td>...</td>\n",
       "      <td>0</td>\n",
       "      <td>0</td>\n",
       "      <td>0</td>\n",
       "      <td>0</td>\n",
       "      <td>0</td>\n",
       "      <td>0</td>\n",
       "      <td>0</td>\n",
       "      <td>0</td>\n",
       "      <td>0</td>\n",
       "      <td>0</td>\n",
       "    </tr>\n",
       "    <tr>\n",
       "      <th>9534</th>\n",
       "      <td>5</td>\n",
       "      <td>26</td>\n",
       "      <td>160</td>\n",
       "      <td>0</td>\n",
       "      <td>0</td>\n",
       "      <td>0</td>\n",
       "      <td>0</td>\n",
       "      <td>0</td>\n",
       "      <td>0</td>\n",
       "      <td>0</td>\n",
       "      <td>...</td>\n",
       "      <td>0</td>\n",
       "      <td>0</td>\n",
       "      <td>0</td>\n",
       "      <td>0</td>\n",
       "      <td>0</td>\n",
       "      <td>0</td>\n",
       "      <td>0</td>\n",
       "      <td>0</td>\n",
       "      <td>0</td>\n",
       "      <td>0</td>\n",
       "    </tr>\n",
       "    <tr>\n",
       "      <th>7865</th>\n",
       "      <td>4</td>\n",
       "      <td>1</td>\n",
       "      <td>2889</td>\n",
       "      <td>0</td>\n",
       "      <td>0</td>\n",
       "      <td>0</td>\n",
       "      <td>0</td>\n",
       "      <td>0</td>\n",
       "      <td>0</td>\n",
       "      <td>0</td>\n",
       "      <td>...</td>\n",
       "      <td>0</td>\n",
       "      <td>0</td>\n",
       "      <td>0</td>\n",
       "      <td>0</td>\n",
       "      <td>0</td>\n",
       "      <td>0</td>\n",
       "      <td>0</td>\n",
       "      <td>0</td>\n",
       "      <td>0</td>\n",
       "      <td>0</td>\n",
       "    </tr>\n",
       "    <tr>\n",
       "      <th>8507</th>\n",
       "      <td>1</td>\n",
       "      <td>1</td>\n",
       "      <td>40</td>\n",
       "      <td>0</td>\n",
       "      <td>0</td>\n",
       "      <td>0</td>\n",
       "      <td>0</td>\n",
       "      <td>0</td>\n",
       "      <td>0</td>\n",
       "      <td>0</td>\n",
       "      <td>...</td>\n",
       "      <td>0</td>\n",
       "      <td>0</td>\n",
       "      <td>0</td>\n",
       "      <td>0</td>\n",
       "      <td>0</td>\n",
       "      <td>0</td>\n",
       "      <td>0</td>\n",
       "      <td>0</td>\n",
       "      <td>0</td>\n",
       "      <td>0</td>\n",
       "    </tr>\n",
       "    <tr>\n",
       "      <th>...</th>\n",
       "      <td>...</td>\n",
       "      <td>...</td>\n",
       "      <td>...</td>\n",
       "      <td>...</td>\n",
       "      <td>...</td>\n",
       "      <td>...</td>\n",
       "      <td>...</td>\n",
       "      <td>...</td>\n",
       "      <td>...</td>\n",
       "      <td>...</td>\n",
       "      <td>...</td>\n",
       "      <td>...</td>\n",
       "      <td>...</td>\n",
       "      <td>...</td>\n",
       "      <td>...</td>\n",
       "      <td>...</td>\n",
       "      <td>...</td>\n",
       "      <td>...</td>\n",
       "      <td>...</td>\n",
       "      <td>...</td>\n",
       "      <td>...</td>\n",
       "    </tr>\n",
       "    <tr>\n",
       "      <th>11734</th>\n",
       "      <td>3</td>\n",
       "      <td>2</td>\n",
       "      <td>1489</td>\n",
       "      <td>0</td>\n",
       "      <td>0</td>\n",
       "      <td>0</td>\n",
       "      <td>0</td>\n",
       "      <td>0</td>\n",
       "      <td>0</td>\n",
       "      <td>0</td>\n",
       "      <td>...</td>\n",
       "      <td>0</td>\n",
       "      <td>0</td>\n",
       "      <td>0</td>\n",
       "      <td>0</td>\n",
       "      <td>0</td>\n",
       "      <td>0</td>\n",
       "      <td>0</td>\n",
       "      <td>0</td>\n",
       "      <td>0</td>\n",
       "      <td>0</td>\n",
       "    </tr>\n",
       "    <tr>\n",
       "      <th>5219</th>\n",
       "      <td>4</td>\n",
       "      <td>3</td>\n",
       "      <td>2371</td>\n",
       "      <td>0</td>\n",
       "      <td>0</td>\n",
       "      <td>0</td>\n",
       "      <td>0</td>\n",
       "      <td>0</td>\n",
       "      <td>0</td>\n",
       "      <td>0</td>\n",
       "      <td>...</td>\n",
       "      <td>0</td>\n",
       "      <td>0</td>\n",
       "      <td>0</td>\n",
       "      <td>0</td>\n",
       "      <td>0</td>\n",
       "      <td>0</td>\n",
       "      <td>0</td>\n",
       "      <td>0</td>\n",
       "      <td>0</td>\n",
       "      <td>0</td>\n",
       "    </tr>\n",
       "    <tr>\n",
       "      <th>5420</th>\n",
       "      <td>3</td>\n",
       "      <td>2</td>\n",
       "      <td>21805</td>\n",
       "      <td>0</td>\n",
       "      <td>0</td>\n",
       "      <td>0</td>\n",
       "      <td>0</td>\n",
       "      <td>0</td>\n",
       "      <td>0</td>\n",
       "      <td>0</td>\n",
       "      <td>...</td>\n",
       "      <td>0</td>\n",
       "      <td>0</td>\n",
       "      <td>0</td>\n",
       "      <td>0</td>\n",
       "      <td>0</td>\n",
       "      <td>0</td>\n",
       "      <td>0</td>\n",
       "      <td>0</td>\n",
       "      <td>0</td>\n",
       "      <td>0</td>\n",
       "    </tr>\n",
       "    <tr>\n",
       "      <th>863</th>\n",
       "      <td>0</td>\n",
       "      <td>1</td>\n",
       "      <td>58184</td>\n",
       "      <td>0</td>\n",
       "      <td>0</td>\n",
       "      <td>0</td>\n",
       "      <td>0</td>\n",
       "      <td>0</td>\n",
       "      <td>0</td>\n",
       "      <td>0</td>\n",
       "      <td>...</td>\n",
       "      <td>0</td>\n",
       "      <td>0</td>\n",
       "      <td>0</td>\n",
       "      <td>0</td>\n",
       "      <td>0</td>\n",
       "      <td>0</td>\n",
       "      <td>0</td>\n",
       "      <td>0</td>\n",
       "      <td>0</td>\n",
       "      <td>0</td>\n",
       "    </tr>\n",
       "    <tr>\n",
       "      <th>7319</th>\n",
       "      <td>0</td>\n",
       "      <td>1</td>\n",
       "      <td>2021</td>\n",
       "      <td>0</td>\n",
       "      <td>0</td>\n",
       "      <td>0</td>\n",
       "      <td>0</td>\n",
       "      <td>0</td>\n",
       "      <td>0</td>\n",
       "      <td>0</td>\n",
       "      <td>...</td>\n",
       "      <td>0</td>\n",
       "      <td>0</td>\n",
       "      <td>0</td>\n",
       "      <td>0</td>\n",
       "      <td>0</td>\n",
       "      <td>0</td>\n",
       "      <td>0</td>\n",
       "      <td>0</td>\n",
       "      <td>0</td>\n",
       "      <td>0</td>\n",
       "    </tr>\n",
       "  </tbody>\n",
       "</table>\n",
       "<p>7098 rows × 46 columns</p>\n",
       "</div>"
      ],
      "text/plain": [
       "       type episodes  members  genre_Martial Arts  genre_Game  genre_Shounen  \\\n",
       "11436     3        1     2563                   0           0              0   \n",
       "3460      3        2     3993                   0           0              0   \n",
       "9534      5       26      160                   0           0              0   \n",
       "7865      4        1     2889                   0           0              0   \n",
       "8507      1        1       40                   0           0              0   \n",
       "...     ...      ...      ...                 ...         ...            ...   \n",
       "11734     3        2     1489                   0           0              0   \n",
       "5219      4        3     2371                   0           0              0   \n",
       "5420      3        2    21805                   0           0              0   \n",
       "863       0        1    58184                   0           0              0   \n",
       "7319      0        1     2021                   0           0              0   \n",
       "\n",
       "       genre_Military  genre_Sports  genre_Comedy  genre_Historical  ...  \\\n",
       "11436               0             0             0                 0  ...   \n",
       "3460                0             0             0                 0  ...   \n",
       "9534                0             0             0                 0  ...   \n",
       "7865                0             0             0                 0  ...   \n",
       "8507                0             0             0                 0  ...   \n",
       "...               ...           ...           ...               ...  ...   \n",
       "11734               0             0             0                 0  ...   \n",
       "5219                0             0             0                 0  ...   \n",
       "5420                0             0             0                 0  ...   \n",
       "863                 0             0             0                 0  ...   \n",
       "7319                0             0             0                 0  ...   \n",
       "\n",
       "       genre_Yaoi  genre_Police  genre_Romance  genre_Shoujo Ai  \\\n",
       "11436           0             0              0                0   \n",
       "3460            0             0              0                0   \n",
       "9534            0             0              0                0   \n",
       "7865            0             0              0                0   \n",
       "8507            0             0              0                0   \n",
       "...           ...           ...            ...              ...   \n",
       "11734           0             0              0                0   \n",
       "5219            0             0              0                0   \n",
       "5420            0             0              0                0   \n",
       "863             0             0              0                0   \n",
       "7319            0             0              0                0   \n",
       "\n",
       "       genre_Dementia  genre_Hentai  genre_Music  genre_Horror  genre_Fantasy  \\\n",
       "11436               0             0            0             0              0   \n",
       "3460                0             0            0             0              0   \n",
       "9534                0             0            0             0              0   \n",
       "7865                0             0            0             0              0   \n",
       "8507                0             0            0             0              0   \n",
       "...               ...           ...          ...           ...            ...   \n",
       "11734               0             0            0             0              0   \n",
       "5219                0             0            0             0              0   \n",
       "5420                0             0            0             0              0   \n",
       "863                 0             0            0             0              0   \n",
       "7319                0             0            0             0              0   \n",
       "\n",
       "       genre_Vampire  \n",
       "11436              0  \n",
       "3460               0  \n",
       "9534               0  \n",
       "7865               0  \n",
       "8507               0  \n",
       "...              ...  \n",
       "11734              0  \n",
       "5219               0  \n",
       "5420               0  \n",
       "863                0  \n",
       "7319               0  \n",
       "\n",
       "[7098 rows x 46 columns]"
      ]
     },
     "execution_count": 14,
     "metadata": {},
     "output_type": "execute_result"
    }
   ],
   "source": [
    "X_train"
   ]
  },
  {
   "cell_type": "markdown",
   "id": "5ff9db28",
   "metadata": {
    "papermill": {
     "duration": 0.011368,
     "end_time": "2022-11-08T21:46:29.071024",
     "exception": false,
     "start_time": "2022-11-08T21:46:29.059656",
     "status": "completed"
    },
    "tags": []
   },
   "source": [
    "Обучим модель"
   ]
  },
  {
   "cell_type": "code",
   "execution_count": 15,
   "id": "2c4c13e3",
   "metadata": {
    "execution": {
     "iopub.execute_input": "2022-11-08T21:46:29.096628Z",
     "iopub.status.busy": "2022-11-08T21:46:29.095863Z",
     "iopub.status.idle": "2022-11-08T21:46:29.152744Z",
     "shell.execute_reply": "2022-11-08T21:46:29.151440Z"
    },
    "papermill": {
     "duration": 0.072952,
     "end_time": "2022-11-08T21:46:29.155731",
     "exception": false,
     "start_time": "2022-11-08T21:46:29.082779",
     "status": "completed"
    },
    "tags": []
   },
   "outputs": [
    {
     "data": {
      "text/plain": [
       "LinearRegression()"
      ]
     },
     "execution_count": 15,
     "metadata": {},
     "output_type": "execute_result"
    }
   ],
   "source": [
    "model = linear_model.LinearRegression()\n",
    "model.fit(X_train, y_train)"
   ]
  },
  {
   "cell_type": "markdown",
   "id": "82353917",
   "metadata": {
    "papermill": {
     "duration": 0.011345,
     "end_time": "2022-11-08T21:46:29.178970",
     "exception": false,
     "start_time": "2022-11-08T21:46:29.167625",
     "status": "completed"
    },
    "tags": []
   },
   "source": [
    "Получим набор предсказаний"
   ]
  },
  {
   "cell_type": "code",
   "execution_count": 16,
   "id": "2ec7da40",
   "metadata": {
    "execution": {
     "iopub.execute_input": "2022-11-08T21:46:29.205345Z",
     "iopub.status.busy": "2022-11-08T21:46:29.204284Z",
     "iopub.status.idle": "2022-11-08T21:46:29.238443Z",
     "shell.execute_reply": "2022-11-08T21:46:29.236253Z"
    },
    "papermill": {
     "duration": 0.054022,
     "end_time": "2022-11-08T21:46:29.244870",
     "exception": false,
     "start_time": "2022-11-08T21:46:29.190848",
     "status": "completed"
    },
    "tags": []
   },
   "outputs": [
    {
     "data": {
      "text/plain": [
       "array([6.35463962, 6.09166648, 6.35448788, ..., 6.36470709, 6.36442517,\n",
       "       6.63862111])"
      ]
     },
     "execution_count": 16,
     "metadata": {},
     "output_type": "execute_result"
    }
   ],
   "source": [
    "y_pred = model.predict(X_test)\n",
    "y_pred"
   ]
  },
  {
   "cell_type": "markdown",
   "id": "4304d8ed",
   "metadata": {
    "papermill": {
     "duration": 0.029609,
     "end_time": "2022-11-08T21:46:29.311904",
     "exception": false,
     "start_time": "2022-11-08T21:46:29.282295",
     "status": "completed"
    },
    "tags": []
   },
   "source": [
    "Также было бы неплохо узнать значение MAE и MSE:"
   ]
  },
  {
   "cell_type": "code",
   "execution_count": 17,
   "id": "98129951",
   "metadata": {
    "execution": {
     "iopub.execute_input": "2022-11-08T21:46:29.360088Z",
     "iopub.status.busy": "2022-11-08T21:46:29.359664Z",
     "iopub.status.idle": "2022-11-08T21:46:29.367227Z",
     "shell.execute_reply": "2022-11-08T21:46:29.365963Z"
    },
    "papermill": {
     "duration": 0.029039,
     "end_time": "2022-11-08T21:46:29.371321",
     "exception": false,
     "start_time": "2022-11-08T21:46:29.342282",
     "status": "completed"
    },
    "tags": []
   },
   "outputs": [
    {
     "name": "stdout",
     "output_type": "stream",
     "text": [
      "MSE: 0.8675144277172485\n",
      "MAE: 0.7191412804821699\n"
     ]
    }
   ],
   "source": [
    "print(\"MSE:\", mean_squared_error(y_test, y_pred))\n",
    "print(\"MAE:\", mean_absolute_error(y_test, y_pred))"
   ]
  },
  {
   "cell_type": "markdown",
   "id": "d6ddc1dd",
   "metadata": {
    "papermill": {
     "duration": 0.01241,
     "end_time": "2022-11-08T21:46:29.396631",
     "exception": false,
     "start_time": "2022-11-08T21:46:29.384221",
     "status": "completed"
    },
    "tags": []
   },
   "source": [
    "Результаты не очень хорошие. Поскольку к исходному датасету были добавлены столбцы, отвечающие за отдельный жанр, получилась ситуация, в которой много признаков, имеющих нулевое значение. Есть подозрение, что этот факт сказывается на качестве предсказаний. Потенциальное решение - использовать больше **разных** признаков, а также оставить лишь 1 жанр для тайтла. Давайте узнаем, какой вес у каждого признака"
   ]
  },
  {
   "cell_type": "markdown",
   "id": "c305fbaa",
   "metadata": {
    "papermill": {
     "duration": 0.011694,
     "end_time": "2022-11-08T21:46:29.421253",
     "exception": false,
     "start_time": "2022-11-08T21:46:29.409559",
     "status": "completed"
    },
    "tags": []
   },
   "source": [
    "### Анализ важности признаков"
   ]
  },
  {
   "cell_type": "code",
   "execution_count": 18,
   "id": "46aad152",
   "metadata": {
    "execution": {
     "iopub.execute_input": "2022-11-08T21:46:29.448628Z",
     "iopub.status.busy": "2022-11-08T21:46:29.447893Z",
     "iopub.status.idle": "2022-11-08T21:46:29.467599Z",
     "shell.execute_reply": "2022-11-08T21:46:29.465770Z"
    },
    "papermill": {
     "duration": 0.036288,
     "end_time": "2022-11-08T21:46:29.470473",
     "exception": false,
     "start_time": "2022-11-08T21:46:29.434185",
     "status": "completed"
    },
    "tags": []
   },
   "outputs": [
    {
     "data": {
      "text/html": [
       "<div>\n",
       "<style scoped>\n",
       "    .dataframe tbody tr th:only-of-type {\n",
       "        vertical-align: middle;\n",
       "    }\n",
       "\n",
       "    .dataframe tbody tr th {\n",
       "        vertical-align: top;\n",
       "    }\n",
       "\n",
       "    .dataframe thead th {\n",
       "        text-align: right;\n",
       "    }\n",
       "</style>\n",
       "<table border=\"1\" class=\"dataframe\">\n",
       "  <thead>\n",
       "    <tr style=\"text-align: right;\">\n",
       "      <th></th>\n",
       "      <th>Название признака</th>\n",
       "      <th>Важность признака</th>\n",
       "    </tr>\n",
       "  </thead>\n",
       "  <tbody>\n",
       "    <tr>\n",
       "      <th>0</th>\n",
       "      <td>type</td>\n",
       "      <td>0.104826</td>\n",
       "    </tr>\n",
       "    <tr>\n",
       "      <th>1</th>\n",
       "      <td>episodes</td>\n",
       "      <td>0.000353</td>\n",
       "    </tr>\n",
       "    <tr>\n",
       "      <th>2</th>\n",
       "      <td>members</td>\n",
       "      <td>0.000007</td>\n",
       "    </tr>\n",
       "    <tr>\n",
       "      <th>44</th>\n",
       "      <td>genre_Fantasy</td>\n",
       "      <td>0.000000</td>\n",
       "    </tr>\n",
       "    <tr>\n",
       "      <th>25</th>\n",
       "      <td>genre_Super Power</td>\n",
       "      <td>0.000000</td>\n",
       "    </tr>\n",
       "    <tr>\n",
       "      <th>26</th>\n",
       "      <td>genre_Yuri</td>\n",
       "      <td>0.000000</td>\n",
       "    </tr>\n",
       "    <tr>\n",
       "      <th>27</th>\n",
       "      <td>genre_Supernatural</td>\n",
       "      <td>0.000000</td>\n",
       "    </tr>\n",
       "    <tr>\n",
       "      <th>28</th>\n",
       "      <td>genre_Seinen</td>\n",
       "      <td>0.000000</td>\n",
       "    </tr>\n",
       "    <tr>\n",
       "      <th>29</th>\n",
       "      <td>genre_School</td>\n",
       "      <td>0.000000</td>\n",
       "    </tr>\n",
       "    <tr>\n",
       "      <th>30</th>\n",
       "      <td>genre_Mystery</td>\n",
       "      <td>0.000000</td>\n",
       "    </tr>\n",
       "    <tr>\n",
       "      <th>31</th>\n",
       "      <td>genre_Kids</td>\n",
       "      <td>0.000000</td>\n",
       "    </tr>\n",
       "    <tr>\n",
       "      <th>32</th>\n",
       "      <td>genre_Demons</td>\n",
       "      <td>0.000000</td>\n",
       "    </tr>\n",
       "    <tr>\n",
       "      <th>33</th>\n",
       "      <td>genre_Samurai</td>\n",
       "      <td>0.000000</td>\n",
       "    </tr>\n",
       "    <tr>\n",
       "      <th>34</th>\n",
       "      <td>genre_Thriller</td>\n",
       "      <td>0.000000</td>\n",
       "    </tr>\n",
       "    <tr>\n",
       "      <th>24</th>\n",
       "      <td>genre_Ecchi</td>\n",
       "      <td>0.000000</td>\n",
       "    </tr>\n",
       "    <tr>\n",
       "      <th>36</th>\n",
       "      <td>genre_Yaoi</td>\n",
       "      <td>0.000000</td>\n",
       "    </tr>\n",
       "    <tr>\n",
       "      <th>37</th>\n",
       "      <td>genre_Police</td>\n",
       "      <td>0.000000</td>\n",
       "    </tr>\n",
       "    <tr>\n",
       "      <th>38</th>\n",
       "      <td>genre_Romance</td>\n",
       "      <td>0.000000</td>\n",
       "    </tr>\n",
       "    <tr>\n",
       "      <th>39</th>\n",
       "      <td>genre_Shoujo Ai</td>\n",
       "      <td>0.000000</td>\n",
       "    </tr>\n",
       "    <tr>\n",
       "      <th>40</th>\n",
       "      <td>genre_Dementia</td>\n",
       "      <td>0.000000</td>\n",
       "    </tr>\n",
       "    <tr>\n",
       "      <th>41</th>\n",
       "      <td>genre_Hentai</td>\n",
       "      <td>0.000000</td>\n",
       "    </tr>\n",
       "    <tr>\n",
       "      <th>42</th>\n",
       "      <td>genre_Music</td>\n",
       "      <td>0.000000</td>\n",
       "    </tr>\n",
       "    <tr>\n",
       "      <th>43</th>\n",
       "      <td>genre_Horror</td>\n",
       "      <td>0.000000</td>\n",
       "    </tr>\n",
       "    <tr>\n",
       "      <th>35</th>\n",
       "      <td>genre_Space</td>\n",
       "      <td>0.000000</td>\n",
       "    </tr>\n",
       "    <tr>\n",
       "      <th>23</th>\n",
       "      <td>genre_Action</td>\n",
       "      <td>0.000000</td>\n",
       "    </tr>\n",
       "    <tr>\n",
       "      <th>22</th>\n",
       "      <td>genre_Josei</td>\n",
       "      <td>0.000000</td>\n",
       "    </tr>\n",
       "    <tr>\n",
       "      <th>11</th>\n",
       "      <td>genre_Shoujo</td>\n",
       "      <td>0.000000</td>\n",
       "    </tr>\n",
       "    <tr>\n",
       "      <th>3</th>\n",
       "      <td>genre_Martial Arts</td>\n",
       "      <td>0.000000</td>\n",
       "    </tr>\n",
       "    <tr>\n",
       "      <th>4</th>\n",
       "      <td>genre_Game</td>\n",
       "      <td>0.000000</td>\n",
       "    </tr>\n",
       "    <tr>\n",
       "      <th>5</th>\n",
       "      <td>genre_Shounen</td>\n",
       "      <td>0.000000</td>\n",
       "    </tr>\n",
       "    <tr>\n",
       "      <th>6</th>\n",
       "      <td>genre_Military</td>\n",
       "      <td>0.000000</td>\n",
       "    </tr>\n",
       "    <tr>\n",
       "      <th>7</th>\n",
       "      <td>genre_Sports</td>\n",
       "      <td>0.000000</td>\n",
       "    </tr>\n",
       "    <tr>\n",
       "      <th>8</th>\n",
       "      <td>genre_Comedy</td>\n",
       "      <td>0.000000</td>\n",
       "    </tr>\n",
       "    <tr>\n",
       "      <th>9</th>\n",
       "      <td>genre_Historical</td>\n",
       "      <td>0.000000</td>\n",
       "    </tr>\n",
       "    <tr>\n",
       "      <th>10</th>\n",
       "      <td>genre_Drama</td>\n",
       "      <td>0.000000</td>\n",
       "    </tr>\n",
       "    <tr>\n",
       "      <th>12</th>\n",
       "      <td>genre_Cars</td>\n",
       "      <td>0.000000</td>\n",
       "    </tr>\n",
       "    <tr>\n",
       "      <th>21</th>\n",
       "      <td>genre_Harem</td>\n",
       "      <td>0.000000</td>\n",
       "    </tr>\n",
       "    <tr>\n",
       "      <th>13</th>\n",
       "      <td>genre_Slice of Life</td>\n",
       "      <td>0.000000</td>\n",
       "    </tr>\n",
       "    <tr>\n",
       "      <th>14</th>\n",
       "      <td>genre_Magic</td>\n",
       "      <td>0.000000</td>\n",
       "    </tr>\n",
       "    <tr>\n",
       "      <th>15</th>\n",
       "      <td>genre_Mecha</td>\n",
       "      <td>0.000000</td>\n",
       "    </tr>\n",
       "    <tr>\n",
       "      <th>16</th>\n",
       "      <td>genre_Psychological</td>\n",
       "      <td>0.000000</td>\n",
       "    </tr>\n",
       "    <tr>\n",
       "      <th>17</th>\n",
       "      <td>genre_Adventure</td>\n",
       "      <td>0.000000</td>\n",
       "    </tr>\n",
       "    <tr>\n",
       "      <th>18</th>\n",
       "      <td>genre_Shounen Ai</td>\n",
       "      <td>0.000000</td>\n",
       "    </tr>\n",
       "    <tr>\n",
       "      <th>19</th>\n",
       "      <td>genre_Parody</td>\n",
       "      <td>0.000000</td>\n",
       "    </tr>\n",
       "    <tr>\n",
       "      <th>20</th>\n",
       "      <td>genre_Sci-Fi</td>\n",
       "      <td>0.000000</td>\n",
       "    </tr>\n",
       "    <tr>\n",
       "      <th>45</th>\n",
       "      <td>genre_Vampire</td>\n",
       "      <td>0.000000</td>\n",
       "    </tr>\n",
       "  </tbody>\n",
       "</table>\n",
       "</div>"
      ],
      "text/plain": [
       "      Название признака  Важность признака\n",
       "0                  type           0.104826\n",
       "1              episodes           0.000353\n",
       "2               members           0.000007\n",
       "44        genre_Fantasy           0.000000\n",
       "25    genre_Super Power           0.000000\n",
       "26           genre_Yuri           0.000000\n",
       "27   genre_Supernatural           0.000000\n",
       "28         genre_Seinen           0.000000\n",
       "29         genre_School           0.000000\n",
       "30        genre_Mystery           0.000000\n",
       "31           genre_Kids           0.000000\n",
       "32         genre_Demons           0.000000\n",
       "33        genre_Samurai           0.000000\n",
       "34       genre_Thriller           0.000000\n",
       "24          genre_Ecchi           0.000000\n",
       "36           genre_Yaoi           0.000000\n",
       "37         genre_Police           0.000000\n",
       "38        genre_Romance           0.000000\n",
       "39      genre_Shoujo Ai           0.000000\n",
       "40       genre_Dementia           0.000000\n",
       "41         genre_Hentai           0.000000\n",
       "42          genre_Music           0.000000\n",
       "43         genre_Horror           0.000000\n",
       "35          genre_Space           0.000000\n",
       "23         genre_Action           0.000000\n",
       "22          genre_Josei           0.000000\n",
       "11         genre_Shoujo           0.000000\n",
       "3    genre_Martial Arts           0.000000\n",
       "4            genre_Game           0.000000\n",
       "5         genre_Shounen           0.000000\n",
       "6        genre_Military           0.000000\n",
       "7          genre_Sports           0.000000\n",
       "8          genre_Comedy           0.000000\n",
       "9      genre_Historical           0.000000\n",
       "10          genre_Drama           0.000000\n",
       "12           genre_Cars           0.000000\n",
       "21          genre_Harem           0.000000\n",
       "13  genre_Slice of Life           0.000000\n",
       "14          genre_Magic           0.000000\n",
       "15          genre_Mecha           0.000000\n",
       "16  genre_Psychological           0.000000\n",
       "17      genre_Adventure           0.000000\n",
       "18     genre_Shounen Ai           0.000000\n",
       "19         genre_Parody           0.000000\n",
       "20         genre_Sci-Fi           0.000000\n",
       "45        genre_Vampire           0.000000"
      ]
     },
     "execution_count": 18,
     "metadata": {},
     "output_type": "execute_result"
    }
   ],
   "source": [
    "linear_weights = abs(model.coef_)\n",
    "\n",
    "feature_importance = pd.DataFrame(columns = ['Название признака', 'Важность признака'])\n",
    "feature_importance['Название признака'] = X_test.columns\n",
    "feature_importance['Важность признака'] = linear_weights\n",
    "feature_importance.sort_values(by='Важность признака', ascending=False)"
   ]
  },
  {
   "cell_type": "markdown",
   "id": "0aad2ee5",
   "metadata": {
    "papermill": {
     "duration": 0.012325,
     "end_time": "2022-11-08T21:46:29.495501",
     "exception": false,
     "start_time": "2022-11-08T21:46:29.483176",
     "status": "completed"
    },
    "tags": []
   },
   "source": [
    "Я оказался прав"
   ]
  },
  {
   "cell_type": "code",
   "execution_count": 19,
   "id": "dc1c8d7a",
   "metadata": {
    "execution": {
     "iopub.execute_input": "2022-11-08T21:46:29.523366Z",
     "iopub.status.busy": "2022-11-08T21:46:29.522532Z",
     "iopub.status.idle": "2022-11-08T21:46:29.794976Z",
     "shell.execute_reply": "2022-11-08T21:46:29.793615Z"
    },
    "papermill": {
     "duration": 0.289204,
     "end_time": "2022-11-08T21:46:29.797659",
     "exception": false,
     "start_time": "2022-11-08T21:46:29.508455",
     "status": "completed"
    },
    "tags": []
   },
   "outputs": [
    {
     "data": {
      "text/plain": [
       "[<matplotlib.lines.Line2D at 0x7f7556a2b210>]"
      ]
     },
     "execution_count": 19,
     "metadata": {},
     "output_type": "execute_result"
    },
    {
     "data": {
      "image/png": "[encoded data removed]",
      "text/plain": [
       "<Figure size 432x288 with 1 Axes>"
      ]
     },
     "metadata": {
      "needs_background": "light"
     },
     "output_type": "display_data"
    }
   ],
   "source": [
    "plt.scatter(y_test, y_pred)\n",
    "plt.plot([min(y_test),max(y_test)], [min(y_test),max(y_test)], ls=\"--\", c=\".3\")"
   ]
  },
  {
   "cell_type": "markdown",
   "id": "9c9de8c5",
   "metadata": {
    "papermill": {
     "duration": 0.013208,
     "end_time": "2022-11-08T21:46:29.824862",
     "exception": false,
     "start_time": "2022-11-08T21:46:29.811654",
     "status": "completed"
    },
    "tags": []
   },
   "source": [
    "## Задача классификации\n",
    "\n",
    "Введем задачу классификации - начнем предсказывать, посмотрит ли человек какой-то тайтл или нет. Поскольку таких данных в датасете нету, я буду их генерить случайно.\n",
    "\n",
    "Кроме того, мы заметили, что разбивать столбец с жанрами отдельно на все жанры - плохая идея, так как модель оказывается весьма неточной. Поэтому каждый тайтл будет иметь **только 1 жанр**.\n",
    "\n",
    "Этапы решения данной задачи будут следующими:\n",
    "1. Оставить только один жанр у аниме\n",
    "2. Случайным образом распределить статистику просмотров\n",
    "3. Решить задачу классификации\n",
    "\n",
    "> В датасете очень много данных, для примера я возьму только 100000 строк"
   ]
  },
  {
   "cell_type": "markdown",
   "id": "6588925c",
   "metadata": {
    "papermill": {
     "duration": 0.012653,
     "end_time": "2022-11-08T21:46:29.850734",
     "exception": false,
     "start_time": "2022-11-08T21:46:29.838081",
     "status": "completed"
    },
    "tags": []
   },
   "source": [
    "### Этап первый"
   ]
  },
  {
   "cell_type": "code",
   "execution_count": 20,
   "id": "b55b86fe",
   "metadata": {
    "execution": {
     "iopub.execute_input": "2022-11-08T21:46:29.879016Z",
     "iopub.status.busy": "2022-11-08T21:46:29.878592Z",
     "iopub.status.idle": "2022-11-08T21:46:29.908186Z",
     "shell.execute_reply": "2022-11-08T21:46:29.906856Z"
    },
    "papermill": {
     "duration": 0.047329,
     "end_time": "2022-11-08T21:46:29.911262",
     "exception": false,
     "start_time": "2022-11-08T21:46:29.863933",
     "status": "completed"
    },
    "tags": []
   },
   "outputs": [],
   "source": [
    "anime_df = anime.copy()\n",
    "anime_df['genre'] = anime_df['genre'].agg(lambda x: random.choice(x.split(', ')))"
   ]
  },
  {
   "cell_type": "markdown",
   "id": "d51db1d8",
   "metadata": {
    "papermill": {
     "duration": 0.012721,
     "end_time": "2022-11-08T21:46:29.937011",
     "exception": false,
     "start_time": "2022-11-08T21:46:29.924290",
     "status": "completed"
    },
    "tags": []
   },
   "source": [
    "### Этап второй"
   ]
  },
  {
   "cell_type": "code",
   "execution_count": 21,
   "id": "7fcaedd8",
   "metadata": {
    "execution": {
     "iopub.execute_input": "2022-11-08T21:46:29.965117Z",
     "iopub.status.busy": "2022-11-08T21:46:29.964730Z",
     "iopub.status.idle": "2022-11-08T21:46:34.831814Z",
     "shell.execute_reply": "2022-11-08T21:46:34.830225Z"
    },
    "papermill": {
     "duration": 4.88487,
     "end_time": "2022-11-08T21:46:34.834872",
     "exception": false,
     "start_time": "2022-11-08T21:46:29.950002",
     "status": "completed"
    },
    "tags": []
   },
   "outputs": [
    {
     "data": {
      "text/html": [
       "<div>\n",
       "<style scoped>\n",
       "    .dataframe tbody tr th:only-of-type {\n",
       "        vertical-align: middle;\n",
       "    }\n",
       "\n",
       "    .dataframe tbody tr th {\n",
       "        vertical-align: top;\n",
       "    }\n",
       "\n",
       "    .dataframe thead th {\n",
       "        text-align: right;\n",
       "    }\n",
       "</style>\n",
       "<table border=\"1\" class=\"dataframe\">\n",
       "  <thead>\n",
       "    <tr style=\"text-align: right;\">\n",
       "      <th></th>\n",
       "      <th>user_id</th>\n",
       "      <th>anime_id</th>\n",
       "      <th>name</th>\n",
       "      <th>genre</th>\n",
       "      <th>type</th>\n",
       "      <th>episodes</th>\n",
       "      <th>rating</th>\n",
       "      <th>members</th>\n",
       "      <th>watched</th>\n",
       "    </tr>\n",
       "  </thead>\n",
       "  <tbody>\n",
       "    <tr>\n",
       "      <th>2586938</th>\n",
       "      <td>32238</td>\n",
       "      <td>9379</td>\n",
       "      <td>Denpa Onna to Seishun Otoko</td>\n",
       "      <td>Comedy</td>\n",
       "      <td>TV</td>\n",
       "      <td>12</td>\n",
       "      <td>7.33</td>\n",
       "      <td>149497</td>\n",
       "      <td>0</td>\n",
       "    </tr>\n",
       "    <tr>\n",
       "      <th>2768294</th>\n",
       "      <td>49714</td>\n",
       "      <td>13093</td>\n",
       "      <td>Nazo no Kanojo X: Nazo no Natsu Matsuri</td>\n",
       "      <td>Romance</td>\n",
       "      <td>OVA</td>\n",
       "      <td>1</td>\n",
       "      <td>7.32</td>\n",
       "      <td>17967</td>\n",
       "      <td>1</td>\n",
       "    </tr>\n",
       "    <tr>\n",
       "      <th>5666312</th>\n",
       "      <td>20884</td>\n",
       "      <td>3731</td>\n",
       "      <td>Itazura na Kiss</td>\n",
       "      <td>Romance</td>\n",
       "      <td>TV</td>\n",
       "      <td>25</td>\n",
       "      <td>7.76</td>\n",
       "      <td>136279</td>\n",
       "      <td>1</td>\n",
       "    </tr>\n",
       "    <tr>\n",
       "      <th>189015</th>\n",
       "      <td>9321</td>\n",
       "      <td>3455</td>\n",
       "      <td>To LOVE-Ru</td>\n",
       "      <td>Romance</td>\n",
       "      <td>TV</td>\n",
       "      <td>26</td>\n",
       "      <td>7.34</td>\n",
       "      <td>237563</td>\n",
       "      <td>1</td>\n",
       "    </tr>\n",
       "    <tr>\n",
       "      <th>5922133</th>\n",
       "      <td>21911</td>\n",
       "      <td>90</td>\n",
       "      <td>Mobile Suit Gundam Wing</td>\n",
       "      <td>Drama</td>\n",
       "      <td>TV</td>\n",
       "      <td>49</td>\n",
       "      <td>7.87</td>\n",
       "      <td>86001</td>\n",
       "      <td>1</td>\n",
       "    </tr>\n",
       "    <tr>\n",
       "      <th>...</th>\n",
       "      <td>...</td>\n",
       "      <td>...</td>\n",
       "      <td>...</td>\n",
       "      <td>...</td>\n",
       "      <td>...</td>\n",
       "      <td>...</td>\n",
       "      <td>...</td>\n",
       "      <td>...</td>\n",
       "      <td>...</td>\n",
       "    </tr>\n",
       "    <tr>\n",
       "      <th>1330680</th>\n",
       "      <td>17193</td>\n",
       "      <td>5114</td>\n",
       "      <td>Fullmetal Alchemist: Brotherhood</td>\n",
       "      <td>Shounen</td>\n",
       "      <td>TV</td>\n",
       "      <td>64</td>\n",
       "      <td>9.26</td>\n",
       "      <td>793665</td>\n",
       "      <td>1</td>\n",
       "    </tr>\n",
       "    <tr>\n",
       "      <th>5771480</th>\n",
       "      <td>73135</td>\n",
       "      <td>2158</td>\n",
       "      <td>Terra e... (TV)</td>\n",
       "      <td>Space</td>\n",
       "      <td>TV</td>\n",
       "      <td>24</td>\n",
       "      <td>8.07</td>\n",
       "      <td>36941</td>\n",
       "      <td>1</td>\n",
       "    </tr>\n",
       "    <tr>\n",
       "      <th>4169182</th>\n",
       "      <td>24064</td>\n",
       "      <td>877</td>\n",
       "      <td>Nana</td>\n",
       "      <td>Comedy</td>\n",
       "      <td>TV</td>\n",
       "      <td>47</td>\n",
       "      <td>8.55</td>\n",
       "      <td>197256</td>\n",
       "      <td>1</td>\n",
       "    </tr>\n",
       "    <tr>\n",
       "      <th>2970931</th>\n",
       "      <td>63710</td>\n",
       "      <td>18677</td>\n",
       "      <td>Yuusha ni Narenakatta Ore wa Shibushibu Shuush...</td>\n",
       "      <td>Comedy</td>\n",
       "      <td>TV</td>\n",
       "      <td>12</td>\n",
       "      <td>7.07</td>\n",
       "      <td>115338</td>\n",
       "      <td>1</td>\n",
       "    </tr>\n",
       "    <tr>\n",
       "      <th>2848685</th>\n",
       "      <td>52039</td>\n",
       "      <td>14741</td>\n",
       "      <td>Chuunibyou demo Koi ga Shitai!</td>\n",
       "      <td>Romance</td>\n",
       "      <td>TV</td>\n",
       "      <td>12</td>\n",
       "      <td>7.95</td>\n",
       "      <td>394399</td>\n",
       "      <td>1</td>\n",
       "    </tr>\n",
       "  </tbody>\n",
       "</table>\n",
       "<p>100000 rows × 9 columns</p>\n",
       "</div>"
      ],
      "text/plain": [
       "         user_id  anime_id                                               name  \\\n",
       "2586938    32238      9379                        Denpa Onna to Seishun Otoko   \n",
       "2768294    49714     13093            Nazo no Kanojo X: Nazo no Natsu Matsuri   \n",
       "5666312    20884      3731                                    Itazura na Kiss   \n",
       "189015      9321      3455                                         To LOVE-Ru   \n",
       "5922133    21911        90                            Mobile Suit Gundam Wing   \n",
       "...          ...       ...                                                ...   \n",
       "1330680    17193      5114                   Fullmetal Alchemist: Brotherhood   \n",
       "5771480    73135      2158                                    Terra e... (TV)   \n",
       "4169182    24064       877                                               Nana   \n",
       "2970931    63710     18677  Yuusha ni Narenakatta Ore wa Shibushibu Shuush...   \n",
       "2848685    52039     14741                     Chuunibyou demo Koi ga Shitai!   \n",
       "\n",
       "           genre type episodes  rating  members  watched  \n",
       "2586938   Comedy   TV       12    7.33   149497        0  \n",
       "2768294  Romance  OVA        1    7.32    17967        1  \n",
       "5666312  Romance   TV       25    7.76   136279        1  \n",
       "189015   Romance   TV       26    7.34   237563        1  \n",
       "5922133    Drama   TV       49    7.87    86001        1  \n",
       "...          ...  ...      ...     ...      ...      ...  \n",
       "1330680  Shounen   TV       64    9.26   793665        1  \n",
       "5771480    Space   TV       24    8.07    36941        1  \n",
       "4169182   Comedy   TV       47    8.55   197256        1  \n",
       "2970931   Comedy   TV       12    7.07   115338        1  \n",
       "2848685  Romance   TV       12    7.95   394399        1  \n",
       "\n",
       "[100000 rows x 9 columns]"
      ]
     },
     "execution_count": 21,
     "metadata": {},
     "output_type": "execute_result"
    }
   ],
   "source": [
    "data = pd.merge(ratings, anime_df, on='anime_id')\n",
    "data = data.dropna()\n",
    "data = data.drop('rating_x', axis=1)\n",
    "data.rename(columns = {'rating_y':'rating'}, inplace = True)\n",
    "data['watched'] = np.random.randint(2, size=data.shape[0])\n",
    "data = data.sample(100000)\n",
    "data"
   ]
  },
  {
   "cell_type": "markdown",
   "id": "06f9b999",
   "metadata": {
    "papermill": {
     "duration": 0.013807,
     "end_time": "2022-11-08T21:46:34.863036",
     "exception": false,
     "start_time": "2022-11-08T21:46:34.849229",
     "status": "completed"
    },
    "tags": []
   },
   "source": [
    "## Этап третий\n",
    "\n",
    "Отлично, теперь можно начать предсказывать. Для чистоты эксперимента избавимся от столбцов `user_id`, `anime_id` и `name`. Помимо этого, воспользуемся LabelEncoder, чтобы обучать нашу модель на численных данных"
   ]
  },
  {
   "cell_type": "code",
   "execution_count": 22,
   "id": "9a178475",
   "metadata": {
    "execution": {
     "iopub.execute_input": "2022-11-08T21:46:34.894181Z",
     "iopub.status.busy": "2022-11-08T21:46:34.893726Z",
     "iopub.status.idle": "2022-11-08T21:46:34.904222Z",
     "shell.execute_reply": "2022-11-08T21:46:34.902866Z"
    },
    "papermill": {
     "duration": 0.029355,
     "end_time": "2022-11-08T21:46:34.906991",
     "exception": false,
     "start_time": "2022-11-08T21:46:34.877636",
     "status": "completed"
    },
    "tags": []
   },
   "outputs": [],
   "source": [
    "data = data.drop(['user_id', 'name', 'anime_id'], axis=1)"
   ]
  },
  {
   "cell_type": "code",
   "execution_count": 23,
   "id": "d804d405",
   "metadata": {
    "execution": {
     "iopub.execute_input": "2022-11-08T21:46:34.936214Z",
     "iopub.status.busy": "2022-11-08T21:46:34.935691Z",
     "iopub.status.idle": "2022-11-08T21:46:35.000073Z",
     "shell.execute_reply": "2022-11-08T21:46:34.998707Z"
    },
    "papermill": {
     "duration": 0.082819,
     "end_time": "2022-11-08T21:46:35.003432",
     "exception": false,
     "start_time": "2022-11-08T21:46:34.920613",
     "status": "completed"
    },
    "tags": []
   },
   "outputs": [],
   "source": [
    "# genres_one_hot = pd.get_dummies(data['genre'] , prefix='genre') <-- One Hot Encoder\n",
    "# data = data.drop('genre', axis = 1)\n",
    "# data = data.join(genres_one_hot)\n",
    "data['type'] = labelencoder.fit_transform(data['type']) ## Лучше везде использовать One Hot Encoder, но для эксперимента применим разные инструменты\n",
    "data['genre'] = labelencoder.fit_transform(data['genre'])"
   ]
  },
  {
   "cell_type": "markdown",
   "id": "cae255a2",
   "metadata": {
    "papermill": {
     "duration": 0.014107,
     "end_time": "2022-11-08T21:46:35.031203",
     "exception": false,
     "start_time": "2022-11-08T21:46:35.017096",
     "status": "completed"
    },
    "tags": []
   },
   "source": [
    "> Я закомментировал One Hot Encoder не просто так . Экспериментальным путем было установлено, что большая часть жанров не несет никакого веса при решении задачи классификации, и итоговый accuracy_score практически не отличается от полученного ниже результата."
   ]
  },
  {
   "cell_type": "markdown",
   "id": "f8d254dc",
   "metadata": {
    "papermill": {
     "duration": 0.013705,
     "end_time": "2022-11-08T21:46:35.059168",
     "exception": false,
     "start_time": "2022-11-08T21:46:35.045463",
     "status": "completed"
    },
    "tags": []
   },
   "source": [
    "Наша целевая переменная - `watched`. Разделим наш датасет"
   ]
  },
  {
   "cell_type": "code",
   "execution_count": 24,
   "id": "d1ce99bf",
   "metadata": {
    "execution": {
     "iopub.execute_input": "2022-11-08T21:46:35.091432Z",
     "iopub.status.busy": "2022-11-08T21:46:35.090977Z",
     "iopub.status.idle": "2022-11-08T21:46:35.096262Z",
     "shell.execute_reply": "2022-11-08T21:46:35.095006Z"
    },
    "papermill": {
     "duration": 0.024399,
     "end_time": "2022-11-08T21:46:35.099138",
     "exception": false,
     "start_time": "2022-11-08T21:46:35.074739",
     "status": "completed"
    },
    "tags": []
   },
   "outputs": [],
   "source": [
    "target_variable = 'watched'"
   ]
  },
  {
   "cell_type": "code",
   "execution_count": 25,
   "id": "63f12052",
   "metadata": {
    "execution": {
     "iopub.execute_input": "2022-11-08T21:46:35.128172Z",
     "iopub.status.busy": "2022-11-08T21:46:35.127707Z",
     "iopub.status.idle": "2022-11-08T21:46:35.164163Z",
     "shell.execute_reply": "2022-11-08T21:46:35.162726Z"
    },
    "papermill": {
     "duration": 0.054392,
     "end_time": "2022-11-08T21:46:35.167170",
     "exception": false,
     "start_time": "2022-11-08T21:46:35.112778",
     "status": "completed"
    },
    "tags": []
   },
   "outputs": [],
   "source": [
    "y = data[target_variable]\n",
    "X = data.drop(target_variable, axis=1)\n",
    "\n",
    "X_train, X_test, y_train, y_test = train_test_split(X, y, test_size=0.3, random_state=42)"
   ]
  },
  {
   "cell_type": "code",
   "execution_count": 26,
   "id": "7581282c",
   "metadata": {
    "execution": {
     "iopub.execute_input": "2022-11-08T21:46:35.198365Z",
     "iopub.status.busy": "2022-11-08T21:46:35.197948Z",
     "iopub.status.idle": "2022-11-08T21:46:35.350620Z",
     "shell.execute_reply": "2022-11-08T21:46:35.349131Z"
    },
    "papermill": {
     "duration": 0.173308,
     "end_time": "2022-11-08T21:46:35.354777",
     "exception": false,
     "start_time": "2022-11-08T21:46:35.181469",
     "status": "completed"
    },
    "tags": []
   },
   "outputs": [
    {
     "name": "stdout",
     "output_type": "stream",
     "text": [
      "Tree accuracy = 0.499\n"
     ]
    }
   ],
   "source": [
    "tree = DecisionTreeClassifier(criterion = \"entropy\", max_depth = 5, min_samples_leaf = 5)\n",
    "tree.fit(X_train, y_train)\n",
    "y_pred = tree.predict(X_test)\n",
    "print(\"Tree accuracy =\", round(accuracy_score(y_test, y_pred), 3))"
   ]
  },
  {
   "cell_type": "code",
   "execution_count": 27,
   "id": "1de135bb",
   "metadata": {
    "execution": {
     "iopub.execute_input": "2022-11-08T21:46:35.383910Z",
     "iopub.status.busy": "2022-11-08T21:46:35.383473Z",
     "iopub.status.idle": "2022-11-08T21:46:35.651386Z",
     "shell.execute_reply": "2022-11-08T21:46:35.649724Z"
    },
    "papermill": {
     "duration": 0.286031,
     "end_time": "2022-11-08T21:46:35.654345",
     "exception": false,
     "start_time": "2022-11-08T21:46:35.368314",
     "status": "completed"
    },
    "tags": []
   },
   "outputs": [
    {
     "data": {
      "text/plain": [
       "<AxesSubplot:title={'center':'Важность признаков'}>"
      ]
     },
     "execution_count": 27,
     "metadata": {},
     "output_type": "execute_result"
    },
    {
     "data": {
      "image/png": "[encoded data removed]",
      "text/plain": [
       "<Figure size 720x432 with 1 Axes>"
      ]
     },
     "metadata": {
      "needs_background": "light"
     },
     "output_type": "display_data"
    }
   ],
   "source": [
    "features = tree.feature_importances_\n",
    "columns = list(X.columns)\n",
    "\n",
    "stats = pd.DataFrame(data={'Feature': columns, 'Importance': features}, index=columns).sort_values(by='Importance', ascending=False)\n",
    "stats.plot(kind='bar', title='Важность признаков', figsize=(10, 6), fontsize=12, rot=45)"
   ]
  }
 ],
 "metadata": {
  "kernelspec": {
   "display_name": "Python 3",
   "language": "python",
   "name": "python3"
  },
  "language_info": {
   "codemirror_mode": {
    "name": "ipython",
    "version": 3
   },
   "file_extension": ".py",
   "mimetype": "text/x-python",
   "name": "python",
   "nbconvert_exporter": "python",
   "pygments_lexer": "ipython3",
   "version": "3.7.12"
  },
  "papermill": {
   "default_parameters": {},
   "duration": 97.865989,
   "end_time": "2022-11-08T21:46:36.795559",
   "environment_variables": {},
   "exception": null,
   "input_path": "__notebook__.ipynb",
   "output_path": "__notebook__.ipynb",
   "parameters": {},
   "start_time": "2022-11-08T21:44:58.929570",
   "version": "2.3.4"
  }
 },
 "nbformat": 4,
 "nbformat_minor": 5
}
